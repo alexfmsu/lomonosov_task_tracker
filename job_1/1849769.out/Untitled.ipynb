{
 "cells": [
  {
   "cell_type": "code",
   "execution_count": 2,
   "metadata": {},
   "outputs": [],
   "source": [
    "from PyQuantum.JC.Cavity import Cavity\n",
    "\n",
    "cv = Cavity(wc=1, wa=1, g=1, n_atoms=1)\n",
    "# print(1/0)\n",
    "# print(__name__)\n",
    "# cv.info()\n",
    "\n",
    "# import pandas as pd\n",
    "# data = [[str(cv.wc) + ' Hz'], [str(cv.wa) + ' Hz'], [str(cv.g) + ' Hz'], [], [cv.n_atoms], [cv.n_levels]]\n",
    "# pd.DataFrame(data, columns=None, index=['wc','wa', 'g', '', 'n_atoms', 'n_levels'])\n",
    "\n",
    "# data2 = [[cv.n_atoms], [cv.n_levels]]\n",
    "# pd.DataFrame(data2, columns=None, index=['n_atoms', 'n_levels'])"
   ]
  },
  {
   "cell_type": "code",
   "execution_count": null,
   "metadata": {},
   "outputs": [],
   "source": []
  }
 ],
 "metadata": {
  "kernelspec": {
   "display_name": "Python 3",
   "language": "python",
   "name": "python3"
  },
  "language_info": {
   "codemirror_mode": {
    "name": "ipython",
    "version": 3
   },
   "file_extension": ".py",
   "mimetype": "text/x-python",
   "name": "python",
   "nbconvert_exporter": "python",
   "pygments_lexer": "ipython3",
   "version": "3.7.3"
  }
 },
 "nbformat": 4,
 "nbformat_minor": 2
}
